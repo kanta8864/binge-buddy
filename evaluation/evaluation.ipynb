{
 "cells": [
  {
   "cell_type": "code",
   "execution_count": 1,
   "id": "f053407b-4043-43f4-a403-4d9df6375d77",
   "metadata": {},
   "outputs": [],
   "source": [
    "import os\n",
    "import pandas as pd\n",
    "from pathlib import Path\n",
    "\n",
    "import matplotlib.pyplot as plt\n",
    "import seaborn as sns\n",
    "import scipy.stats as stats\n",
    "\n",
    "%matplotlib inline\n",
    "\n",
    "from utils import *\n",
    "\n",
    "assert \"data\" in os.listdir(), \"No data folder found, please download the CSVs in a data/ folder!\"\n",
    "\n",
    "DATA_DIR = Path(\"data\")\n",
    "PLOT_DIR = Path(\"plots\")\n",
    "PLOT_DIR.mkdir(parents=True, exist_ok=True)"
   ]
  },
  {
   "cell_type": "markdown",
   "id": "2bd66deb-42d6-4e4d-bb69-0c37d6e9e504",
   "metadata": {},
   "source": [
    "# Perform tests on population to determine no significant difference in age, gender and familiarity with technology is present"
   ]
  },
  {
   "cell_type": "markdown",
   "id": "685cac2a-30a1-4b23-9dd1-62c9fdec8b67",
   "metadata": {},
   "source": [
    "## Chi-squared test for homogeneity"
   ]
  },
  {
   "cell_type": "code",
   "execution_count": 11,
   "id": "216edd85-d697-4c75-830d-a2d652c1c624",
   "metadata": {},
   "outputs": [],
   "source": [
    "def read_experiment_data(data_file, group):\n",
    "    data_df = pd.read_csv(DATA_DIR / data_file)\n",
    "    data_df = data_df.dropna(subset=['user_id'])\n",
    "    data_df['user_id'] = data_df['user_id'].astype(int)\n",
    "    data_df['group'] = group\n",
    "\n",
    "    data_df.fillna({\n",
    "        'Gender': 'male',\n",
    "        'Familiarity with LLMs': 5,\n",
    "        'Age': 24\n",
    "    }, inplace=True)\n",
    "\n",
    "    data_df['Gender'] = data_df['Gender'].str.lower()\n",
    "\n",
    "    return data_df"
   ]
  },
  {
   "cell_type": "code",
   "execution_count": 13,
   "id": "f94751b4-d5db-45c9-a1c6-32c0baa99304",
   "metadata": {},
   "outputs": [
    {
     "name": "stdout",
     "output_type": "stream",
     "text": [
      "Contingency Table:\n",
      "group   control  experimental\n",
      "Gender                       \n",
      "female        2             1\n",
      "male         13            14\n",
      "\n",
      "Chi-square statistic: 0.0\n",
      "Degrees of freedom: 1\n",
      "P-value: 1.0\n",
      "\n",
      "Result: Fail to reject the null hypothesis — gender distribution is not significantly different between groups.\n"
     ]
    }
   ],
   "source": [
    "exp_df = read_experiment_data(\"DSAIT 4065 Experiment Tracking Spreadsheet - Semantic.csv\", \"experimental\")\n",
    "ctrl_df = read_experiment_data(\"DSAIT 4065 Experiment Tracking Spreadsheet - Episodic.csv\", \"control\")\n",
    "\n",
    "# Combine the data\n",
    "combined_df = pd.concat([exp_df, ctrl_df])\n",
    "\n",
    "# Create a contingency table: rows = gender, columns = group\n",
    "contingency_table = pd.crosstab(combined_df[\"Gender\"], combined_df[\"group\"])\n",
    "\n",
    "print(\"Contingency Table:\")\n",
    "print(contingency_table)\n",
    "\n",
    "# Perform Chi-square test\n",
    "chi2, p, dof, expected = stats.chi2_contingency(contingency_table)\n",
    "\n",
    "print(f\"\\nChi-square statistic: {chi2}\")\n",
    "print(f\"Degrees of freedom: {dof}\")\n",
    "print(f\"P-value: {p}\")\n",
    "\n",
    "alpha = 0.05\n",
    "if p < alpha:\n",
    "    print(\"\\nResult: Reject the null hypothesis — gender distribution is significantly different between groups.\")\n",
    "else:\n",
    "    print(\"\\nResult: Fail to reject the null hypothesis — gender distribution is not significantly different between groups.\")"
   ]
  },
  {
   "cell_type": "markdown",
   "id": "76a8445f-e430-4c78-a08f-79103aef55b1",
   "metadata": {},
   "source": [
    "## Kruskal-Wallis test was used to check for significant differences in age and familiarity with LLMs of the participants between the two groups"
   ]
  },
  {
   "cell_type": "code",
   "execution_count": 22,
   "id": "d56db042-682f-4ca7-b05b-a3188dde64d2",
   "metadata": {},
   "outputs": [
    {
     "name": "stdout",
     "output_type": "stream",
     "text": [
      "\n",
      "Kruskal-Wallis test for Age:\n",
      "Statistic: 0.3568498769483082\n",
      "P-value: 0.5502609595647867\n",
      "\n",
      "Result: Fail to reject the null hypothesis — no significant differences in age between groups.\n",
      "Experimental Group familiarity data count: 15\n",
      "Control Group familiarity data count: 15\n",
      "\n",
      "Kruskal-Wallis test for Familiarity with LLMs:\n",
      "Statistic: 0.26825396825398645\n",
      "P-value: 0.6045054371054662\n",
      "\n",
      "Result: Fail to reject the null hypothesis — no significant differences in familiarity with LLMs between groups.\n"
     ]
    }
   ],
   "source": [
    "age_exp = exp_df['Age']\n",
    "age_ctrl = ctrl_df['Age']\n",
    "\n",
    "# Kruskal-Wallis test for age\n",
    "kruskal_age_stat, kruskal_age_p = stats.kruskal(age_exp, age_ctrl)\n",
    "\n",
    "print(f\"\\nKruskal-Wallis test for Age:\")\n",
    "print(f\"Statistic: {kruskal_age_stat}\")\n",
    "print(f\"P-value: {kruskal_age_p}\")\n",
    "\n",
    "if kruskal_age_p < alpha:\n",
    "    print(\"\\nResult: Reject the null hypothesis — significant differences in age between groups.\")\n",
    "else:\n",
    "    print(\"\\nResult: Fail to reject the null hypothesis — no significant differences in age between groups.\")\n",
    "\n",
    "# --- Kruskal-Wallis test for Familiarity with LLMs ---\n",
    "exp_df['Familiarity with LLMs'] = pd.to_numeric(exp_df['Familiarity with LLMs'], errors='coerce')\n",
    "ctrl_df['Familiarity with LLMs'] = pd.to_numeric(ctrl_df['Familiarity with LLMs'], errors='coerce')\n",
    "\n",
    "familiarity_exp = exp_df['Familiarity with LLMs']\n",
    "familiarity_ctrl = ctrl_df['Familiarity with LLMs']\n",
    "\n",
    "# Kruskal-Wallis test for familiarity with LLMs\n",
    "kruskal_familiarity_stat, kruskal_familiarity_p = stats.kruskal(familiarity_exp, familiarity_ctrl)\n",
    "\n",
    "print(f\"\\nKruskal-Wallis test for Familiarity with LLMs:\")\n",
    "print(f\"Statistic: {kruskal_familiarity_stat}\")\n",
    "print(f\"P-value: {kruskal_familiarity_p}\")\n",
    "\n",
    "if kruskal_familiarity_p < alpha:\n",
    "    print(\"\\nResult: Reject the null hypothesis — significant differences in familiarity with LLMs between groups.\")\n",
    "else:\n",
    "    print(\"\\nResult: Fail to reject the null hypothesis — no significant differences in familiarity with LLMs between groups.\")"
   ]
  },
  {
   "cell_type": "markdown",
   "id": "6d2d6391-9310-40f5-a18f-5cab90dbe894",
   "metadata": {},
   "source": [
    "## Create semantic and eposidic survey dataframes from survey data"
   ]
  },
  {
   "cell_type": "code",
   "execution_count": 2,
   "id": "f904bc94-e8e5-4337-bf41-e07c8818fe7b",
   "metadata": {},
   "outputs": [],
   "source": [
    "def split_survey_by_user(data_file, survey_file, category):\n",
    "    data_df = pd.read_csv(data_file)\n",
    "    survey_df = pd.read_csv(survey_file)\n",
    "\n",
    "    user_ids = set(data_df['user_id'].dropna().astype(int))\n",
    "\n",
    "    survey_df = survey_df.drop(\"Timestamp\", axis=1)\n",
    "    survey_df = survey_df.rename(columns={\"Please fill in your user id that was used in the experiment.\": \"user_id\"})\n",
    "\n",
    "    survey_filtered_df = survey_df[survey_df['user_id'].dropna().astype(int).isin(user_ids)]\n",
    "\n",
    "    output_file = DATA_DIR / f\"Survey_{category}.csv\"\n",
    "    survey_filtered_df.to_csv(output_file, index=False)\n",
    "\n",
    "    return survey_filtered_df"
   ]
  },
  {
   "cell_type": "code",
   "execution_count": 3,
   "id": "9282d7c9-760a-4468-8009-67cfe72b9c6b",
   "metadata": {},
   "outputs": [],
   "source": [
    "semantic_survey_df = split_survey_by_user(DATA_DIR / \"DSAIT 4065 Experiment Tracking Spreadsheet - Semantic.csv\", \n",
    "                                          DATA_DIR / \"Survey Questionnaire for AI-Based TV Show_Movie Recommendations (Responses) - Form Responses 1.csv\", \n",
    "                                          \"Semantic\")\n",
    "\n",
    "episodic_survey_df = split_survey_by_user(DATA_DIR / \"DSAIT 4065 Experiment Tracking Spreadsheet - Episodic.csv\", \n",
    "                                          DATA_DIR / \"Survey Questionnaire for AI-Based TV Show_Movie Recommendations (Responses) - Form Responses 1.csv\", \n",
    "                                          \"Episodic\")\n"
   ]
  },
  {
   "cell_type": "markdown",
   "id": "f19f30ff-c21a-4b04-bc07-4cbf8804155a",
   "metadata": {},
   "source": [
    "# Categorize questions and process the data to compute the measures"
   ]
  },
  {
   "cell_type": "markdown",
   "id": "12fb10ab-1288-474a-9201-080d3d5fc394",
   "metadata": {},
   "source": [
    "## Extract from evaluation report: \n",
    "\n",
    "The level of human trust in the recommender agent will be measured through an established questionnaire by Jian et al. (2000) (See Appendix). The questionnaire contains 12 questions all of which use a seven-point Likert scale to measure user trust in the agent, where 1 represents the weakest trust and 7 the strongest trust. Some questions assess the user's distrust in / incapabilities of the agent, and their values will be inverted to ensure that a score of 7 always represents the strongest trust. The mean value of the 12 questions will be computed for each participant, which will then be aggregated to produce one averaged value over all participants for each group. \n"
   ]
  },
  {
   "cell_type": "code",
   "execution_count": 4,
   "id": "13e8ca18-efe7-47f9-8836-e1241ee5fbd9",
   "metadata": {},
   "outputs": [],
   "source": [
    "survey_questions = [\n",
    "'The system is deceptive',\n",
    "'The system behaves in an underhanded manner',\n",
    "'I am suspicious of the system’s intent, action, or outputs',\n",
    "'I am wary of the system',\n",
    "'The system’s actions will have a harmful or injurious outcome',\n",
    "'I am confident in the system', 'The system provides security',\n",
    "'The system has integrity', 'The system is dependable',\n",
    "'The system is reliable', 'I can trust the system',\n",
    "'I am familiar with the system'\n",
    "]"
   ]
  },
  {
   "cell_type": "code",
   "execution_count": 5,
   "id": "3b038dd0-f99e-44e4-99d5-23016a11c3f8",
   "metadata": {},
   "outputs": [],
   "source": [
    "negative_questions = [\n",
    "\"The system is deceptive\",\n",
    "\"The system behaves in an underhanded manner\",\n",
    "\"I am suspicious of the system’s intent, action, or outputs\",\n",
    "\"I am wary of the system\",\n",
    "\"The system’s actions will have a harmful or injurious outcome\"\n",
    "]"
   ]
  },
  {
   "cell_type": "code",
   "execution_count": 6,
   "id": "cac919f9-db4d-44b0-99c8-6d29d70ba8ef",
   "metadata": {},
   "outputs": [],
   "source": [
    "def process_survey_data(df, survey_questions, negative_questions):\n",
    "    df = df.copy()  # Avoid modifying the original dataframe\n",
    "\n",
    "    # Reverse score the negative questions\n",
    "    for question in negative_questions:\n",
    "        if question in df.columns:\n",
    "            df[question] = 8 - df[question]  # Invert scores (1 → 7, 2 → 6, ..., 7 → 1)\n",
    "\n",
    "    # Compute mean trust score per user\n",
    "    df['mean_trust_score'] = df[survey_questions].mean(axis=1)\n",
    "\n",
    "    return df[['user_id', 'mean_trust_score']]"
   ]
  },
  {
   "cell_type": "code",
   "execution_count": 7,
   "id": "f020dadd-47cd-4e3d-aa4a-e3146fbfea05",
   "metadata": {},
   "outputs": [
    {
     "data": {
      "image/png": "[encoded data removed]",
      "text/plain": [
       "<Figure size 800x500 with 1 Axes>"
      ]
     },
     "metadata": {},
     "output_type": "display_data"
    },
    {
     "data": {
      "image/png": "[encoded data removed]",
      "text/plain": [
       "<Figure size 800x500 with 1 Axes>"
      ]
     },
     "metadata": {},
     "output_type": "display_data"
    },
    {
     "name": "stdout",
     "output_type": "stream",
     "text": [
      "Plots saved successfully in: plots\n"
     ]
    }
   ],
   "source": [
    "semantic_user_trust = process_survey_data(semantic_survey_df, survey_questions, negative_questions)\n",
    "episodic_user_trust = process_survey_data(episodic_survey_df, survey_questions, negative_questions)\n",
    "\n",
    "semantic_user_trust[\"group\"] = \"Semantic Memory\"\n",
    "episodic_user_trust[\"group\"] = \"Episodic Memory\"\n",
    "\n",
    "combined_trust_df = pd.concat([semantic_user_trust, episodic_user_trust], ignore_index=True)\n",
    "\n",
    "# Plot the scores\n",
    "plot_and_save_trust_scores(combined_trust_df, PLOT_DIR)"
   ]
  },
  {
   "cell_type": "markdown",
   "id": "a17f04f7-d3e7-49b5-9487-790a160967b5",
   "metadata": {},
   "source": [
    "# Statistical Testing"
   ]
  },
  {
   "cell_type": "code",
   "execution_count": 8,
   "id": "24e468bb-c958-4e0b-8d4d-8f11b3d20d4a",
   "metadata": {},
   "outputs": [],
   "source": [
    "control_group = \"Episodic Memory\"\n",
    "experimental_group = \"Semantic Memory\"\n",
    "\n",
    "control_group_scores = combined_trust_df[combined_trust_df['group'] == control_group]['mean_trust_score']\n",
    "experimental_group_scores = combined_trust_df[combined_trust_df['group'] == experimental_group]['mean_trust_score']"
   ]
  },
  {
   "cell_type": "markdown",
   "id": "7ec0d212-74dc-4fba-b4ea-fbb632cdc58d",
   "metadata": {},
   "source": [
    "### Shapiro-Wilk test for normality"
   ]
  },
  {
   "cell_type": "code",
   "execution_count": 10,
   "id": "6879110f-4d3a-4e2a-a8b9-e088414ebea2",
   "metadata": {},
   "outputs": [
    {
     "name": "stdout",
     "output_type": "stream",
     "text": [
      "Control Group - Shapiro-Wilk Test Statistic: 0.9488431327703856, p-value: 0.5064183445525734\n",
      "Experimental Group - Shapiro-Wilk Test Statistic: 0.9740823510570769, p-value: 0.9132300009547094\n",
      "Control group trust scores are normally distributed.\n",
      "Experimental group trust scores are normally distributed.\n"
     ]
    }
   ],
   "source": [
    "# Perform Shapiro-Wilk test for normality\n",
    "control_shapiro_stat, control_p_value = stats.shapiro(control_group_scores)\n",
    "experimental_shapiro_stat, experimental_p_value = stats.shapiro(experimental_group_scores)\n",
    "\n",
    "print(f\"Control Group - Shapiro-Wilk Test Statistic: {control_shapiro_stat}, p-value: {control_p_value}\")\n",
    "print(f\"Experimental Group - Shapiro-Wilk Test Statistic: {experimental_shapiro_stat}, p-value: {experimental_p_value}\")\n",
    "\n",
    "# Interpret the results\n",
    "if control_p_value > 0.05:\n",
    "    print(\"Control group trust scores are normally distributed.\")\n",
    "else:\n",
    "    print(\"Control group trust scores are not normally distributed.\")\n",
    "    \n",
    "if experimental_p_value > 0.05:\n",
    "    print(\"Experimental group trust scores are normally distributed.\")\n",
    "else:\n",
    "    print(\"Experimental group trust scores are not normally distributed.\")"
   ]
  },
  {
   "cell_type": "markdown",
   "id": "ae42582c-83c6-47f8-9c02-7e62188ce4b6",
   "metadata": {},
   "source": [
    "### Bertlett's test for equi-variance"
   ]
  },
  {
   "cell_type": "code",
   "execution_count": 11,
   "id": "a63a1b71-8199-43cf-b0b2-4abcf6f7fbe5",
   "metadata": {},
   "outputs": [
    {
     "name": "stdout",
     "output_type": "stream",
     "text": [
      "Bartlett's test statistic: 0.725, p-value: 0.395\n",
      "The variances are equal (fail to reject H₀).\n",
      "\n",
      "Use Student's t-test.\n"
     ]
    }
   ],
   "source": [
    "# Perform Bartlett's test\n",
    "stat, p_value = stats.bartlett(control_group_scores, experimental_group_scores)\n",
    "\n",
    "# Output the result\n",
    "print(f\"Bartlett's test statistic: {stat:.3f}, p-value: {p_value:.3f}\")\n",
    "\n",
    "# Interpretation\n",
    "if p_value < 0.05:\n",
    "    print(\"The variances are significantly different (reject H₀). Use Welch’s t-test.\")\n",
    "else:\n",
    "    print(\"The variances are equal (fail to reject H₀).\\n\\nUse Student's t-test.\")"
   ]
  },
  {
   "cell_type": "markdown",
   "id": "f9ebc5b3-1e80-4514-a3a5-282e7614874d",
   "metadata": {
    "jp-MarkdownHeadingCollapsed": true
   },
   "source": [
    "## Latex Formatting for report"
   ]
  },
  {
   "cell_type": "code",
   "execution_count": 12,
   "id": "a0af6b3c-11f5-41ba-ad41-2516c58a27f4",
   "metadata": {},
   "outputs": [
    {
     "name": "stdout",
     "output_type": "stream",
     "text": [
      "\n",
      "\\begin{table}[ht]\n",
      "\\centering\n",
      "\\begin{tabular}{|c|c|c|c|}\n",
      "\\hline\n",
      "Group & W-Statistic & p-value & Normality \\\\\n",
      "\\hline\n",
      "Control Group (Episodic) & 0.949 & 0.506 & \\textbf{Yes} \\\\ \n",
      "Experimental Group (Semantic) & 0.974 & 0.913 & \\textbf{Yes} \\\\ \n",
      "\n",
      "\\hline\n",
      "\\end{tabular}\n",
      "\\caption{Shapiro-Wilk Test Results for Normality of User Trust Scores}\n",
      "\\label{tab:shapiro_results}\n",
      "\\end{table}\n",
      "\n"
     ]
    }
   ],
   "source": [
    "# Start the LaTeX table header for Shapiro-Wilk test results\n",
    "latex_header = r\"\"\"\n",
    "\\begin{table}[ht]\n",
    "\\centering\n",
    "\\begin{tabular}{|c|c|c|c|}\n",
    "\\hline\n",
    "Group & W-Statistic & p-value & Normality \\\\\n",
    "\\hline\n",
    "\"\"\"\n",
    "\n",
    "# Initialize an empty string for the rows\n",
    "latex_rows = \"\"\n",
    "\n",
    "# Define model shorthand for the groups (e.g., \"Control\" and \"Experimental\")\n",
    "group_names_shorthand = {\n",
    "    \"Episodic Memory\": \"Control Group (Episodic)\",\n",
    "    \"Semantic Memory\": \"Experimental Group (Semantic)\"\n",
    "}\n",
    "\n",
    "# Perform the Shapiro-Wilk test for normality and format the results\n",
    "for group in [control_group, experimental_group]:\n",
    "    # Get the trust scores for the current group\n",
    "    group_scores = combined_trust_df[combined_trust_df['group'] == group]['mean_trust_score']\n",
    "    \n",
    "    # Perform the Shapiro-Wilk test\n",
    "    w_stat, p_value = stats.shapiro(group_scores)\n",
    "    \n",
    "    # Determine normality based on the p-value\n",
    "    normality = \"\\\\textbf{Yes}\" if p_value > 0.05 else \"\\\\textbf{No}\"\n",
    "    \n",
    "    # Add the row to the LaTeX table (formatting numbers to a fixed precision)\n",
    "    latex_rows += f\"{group_names_shorthand[group]} & {w_stat:.3f} & {p_value:.3f} & {normality} \\\\\\\\ \\n\"\n",
    "\n",
    "# End the LaTeX table\n",
    "latex_footer = r\"\"\"\n",
    "\\hline\n",
    "\\end{tabular}\n",
    "\\caption{Shapiro-Wilk Test Results for Normality of User Trust Scores}\n",
    "\\label{tab:shapiro_results}\n",
    "\\end{table}\n",
    "\"\"\"\n",
    "\n",
    "# Combine header, rows, and footer\n",
    "latex_output = latex_header + latex_rows + latex_footer\n",
    "\n",
    "# Print the LaTeX table output\n",
    "print(latex_output)"
   ]
  },
  {
   "cell_type": "markdown",
   "id": "022160d0-b947-4cf5-aa63-d0995868cf99",
   "metadata": {},
   "source": [
    "# Independent samples t-test (Student’s t-test)\n",
    "\n",
    "### Research Question:\n",
    "The primary goal of this analysis is to evaluate whether there is a significant difference in the mean user trust scores between the **control group** (episodic memory) and the **experimental group** (semantic memory) in the context of a movie/series recommender agent.\n",
    "\n",
    "### Hypotheses:\n",
    "- **Null Hypothesis (H₀)**: There is no significant difference in the mean user trust scores between the control group (episodic memory) and the experimental group (semantic memory).\n",
    "- **Alternative Hypothesis (H₁)**: There is a significant difference in the mean user trust scores between the control group (episodic memory) and the experimental group (semantic memory).\n",
    "\n",
    "### Statistical Test:\n",
    "Since we are comparing the means of two independent groups (control and experimental), we will perform an **independent samples t-test** (Student’s t-test). This test helps determine whether there is a statistically significant difference between the mean trust scores of the two groups.\n"
   ]
  },
  {
   "cell_type": "code",
   "execution_count": 13,
   "id": "bc4fd68b-c355-490c-acb8-c1772270acf7",
   "metadata": {},
   "outputs": [
    {
     "name": "stdout",
     "output_type": "stream",
     "text": [
      "T-statistic: -0.894\n",
      "P-value: 0.379\n",
      "Fail to reject the null hypothesis: There is no significant difference in the mean trust scores.\n"
     ]
    }
   ],
   "source": [
    "# Perform the independent t-test (two-tailed)\n",
    "t_stat, p_value = stats.ttest_ind(control_group_scores, experimental_group_scores)\n",
    "\n",
    "# Print the test result\n",
    "print(f\"T-statistic: {t_stat:.3f}\")\n",
    "print(f\"P-value: {p_value:.3f}\")\n",
    "\n",
    "# Determine whether the null hypothesis is rejected\n",
    "alpha = 0.05  # Significance level (5%)\n",
    "\n",
    "if p_value < alpha:\n",
    "    result = \"Reject the null hypothesis: There is a significant difference in the mean trust scores.\"\n",
    "else:\n",
    "    result = \"Fail to reject the null hypothesis: There is no significant difference in the mean trust scores.\"\n",
    "\n",
    "print(result)"
   ]
  },
  {
   "cell_type": "markdown",
   "id": "e2509b19-7a3d-44f8-b27d-5adfd67e3139",
   "metadata": {},
   "source": [
    "## Latex Formatting for report"
   ]
  },
  {
   "cell_type": "code",
   "execution_count": 14,
   "id": "2449886e-1a02-40d2-9c99-7de77491547a",
   "metadata": {},
   "outputs": [
    {
     "name": "stdout",
     "output_type": "stream",
     "text": [
      "\n",
      "\\begin{table}[ht]\n",
      "\\centering\n",
      "\\begin{tabular}{|c|c|c|c|}\n",
      "\\hline\n",
      "Group A & Group B & T-Statistic & p-value \\\\\n",
      "\\hline\n",
      "Control Group (Episodic) & Experimental Group (Semantic) & -0.894 & 0.379 \\\\ \n",
      "\n",
      "\\hline\n",
      "\\end{tabular}\n",
      "\\caption{Independent Samples T-Test Results for User Trust Scores}\n",
      "\\label{tab:t_test_results}\n",
      "\\end{table}\n",
      "\n"
     ]
    }
   ],
   "source": [
    "# Start the LaTeX table header for t-test results\n",
    "latex_header = r\"\"\"\n",
    "\\begin{table}[ht]\n",
    "\\centering\n",
    "\\begin{tabular}{|c|c|c|c|}\n",
    "\\hline\n",
    "Group A & Group B & T-Statistic & p-value \\\\\n",
    "\\hline\n",
    "\"\"\"\n",
    "\n",
    "# Define group names for the table\n",
    "group_names_shorthand = {\n",
    "    \"episodic\": \"Control Group (Episodic)\",\n",
    "    \"semantic\": \"Experimental Group (Semantic)\"\n",
    "}\n",
    "\n",
    "# Add the t-test results to the LaTeX table\n",
    "latex_rows = f\"{group_names_shorthand['episodic']} & {group_names_shorthand['semantic']} & {t_stat:.3f} & {p_value:.3f} \\\\\\\\ \\n\"\n",
    "\n",
    "# End the LaTeX table\n",
    "latex_footer = r\"\"\"\n",
    "\\hline\n",
    "\\end{tabular}\n",
    "\\caption{Independent Samples T-Test Results for User Trust Scores}\n",
    "\\label{tab:t_test_results}\n",
    "\\end{table}\n",
    "\"\"\"\n",
    "\n",
    "# Combine header, rows, and footer\n",
    "latex_output = latex_header + latex_rows + latex_footer\n",
    "\n",
    "# Print the LaTeX table output\n",
    "print(latex_output)\n"
   ]
  },
  {
   "cell_type": "code",
   "execution_count": null,
   "id": "8afff9fd-beb3-4b81-8fb8-455879094f6d",
   "metadata": {},
   "outputs": [],
   "source": []
  }
 ],
 "metadata": {
  "kernelspec": {
   "display_name": "Python 3 (ipykernel)",
   "language": "python",
   "name": "python3"
  },
  "language_info": {
   "codemirror_mode": {
    "name": "ipython",
    "version": 3
   },
   "file_extension": ".py",
   "mimetype": "text/x-python",
   "name": "python",
   "nbconvert_exporter": "python",
   "pygments_lexer": "ipython3",
   "version": "3.13.2"
  }
 },
 "nbformat": 4,
 "nbformat_minor": 5
}
